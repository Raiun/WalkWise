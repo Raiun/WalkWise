{
 "cells": [
  {
   "cell_type": "code",
   "execution_count": 4,
   "metadata": {},
   "outputs": [],
   "source": [
    "import torch\n",
    "import torch.nn as nn\n",
    "import torch.nn.functional as F\n",
    "import numpy as np"
   ]
  },
  {
   "cell_type": "code",
   "execution_count": 5,
   "metadata": {},
   "outputs": [],
   "source": [
    "class Gait1DCNN(nn.Module):\n",
    "    def __init__(self, num_classes=3):\n",
    "        super(Gait1DCNN, self).__init__()\n",
    "        # Input shape: [batch_size, 6, 500]\n",
    "        self.conv1 = nn.Conv1d(\n",
    "            in_channels=6, out_channels=64, kernel_size=3, stride=1, padding=1\n",
    "        )\n",
    "        self.pool = nn.MaxPool1d(kernel_size=2, stride=2, padding=0)\n",
    "        self.conv2 = nn.Conv1d(64, 128, kernel_size=3, stride=1, padding=1)\n",
    "\n",
    "        # Calculate the size of the features after the convolution and pooling layers\n",
    "        # Assuming input length is 500 and you apply pooling twice\n",
    "        conv_output_size = 500 // 2 // 2\n",
    "        self.fc1 = nn.Linear(128 * conv_output_size, 128)\n",
    "        self.fc2 = nn.Linear(128, num_classes)\n",
    "\n",
    "    def forward(self, x):\n",
    "        x = self.pool(F.relu(self.conv1(x)))\n",
    "        x = self.pool(F.relu(self.conv2(x)))\n",
    "        # Flatten the output for the dense layer\n",
    "        x = x.view(x.size(0), -1)\n",
    "        x = F.relu(self.fc1(x))\n",
    "        x = self.fc2(x)\n",
    "        return x"
   ]
  },
  {
   "cell_type": "code",
   "execution_count": 56,
   "metadata": {},
   "outputs": [
    {
     "data": {
      "text/plain": [
       "Gait1DCNN(\n",
       "  (conv1): Conv1d(6, 64, kernel_size=(3,), stride=(1,), padding=(1,))\n",
       "  (pool): MaxPool1d(kernel_size=2, stride=2, padding=0, dilation=1, ceil_mode=False)\n",
       "  (conv2): Conv1d(64, 128, kernel_size=(3,), stride=(1,), padding=(1,))\n",
       "  (fc1): Linear(in_features=16000, out_features=128, bias=True)\n",
       "  (fc2): Linear(in_features=128, out_features=3, bias=True)\n",
       ")"
      ]
     },
     "execution_count": 56,
     "metadata": {},
     "output_type": "execute_result"
    }
   ],
   "source": [
    "model = torch.load(\"1D_CNN_model.pth\")\n",
    "label_dict = {\"hersh\": 0, \"nate\": 1, \"ryan\": 2}\n",
    "model.eval()  # Set the model to evaluation mode"
   ]
  },
  {
   "cell_type": "code",
   "execution_count": 7,
   "metadata": {},
   "outputs": [],
   "source": [
    "def preprocess_data(sample, crop_size, noise_level):\n",
    "    # Normalize the sample\n",
    "    sample_mean = sample.mean(axis=0)\n",
    "    sample_std = sample.std(axis=0)\n",
    "    sample = (sample - sample_mean) / sample_std\n",
    "\n",
    "    # Random cropping\n",
    "    if sample.shape[0] > crop_size:\n",
    "        start = np.random.randint(0, sample.shape[0] - crop_size)\n",
    "        sample = sample[start : start + crop_size, :]\n",
    "    else:\n",
    "        # If the sample is shorter than crop_size, you might want to pad it or handle it differently\n",
    "        pass\n",
    "\n",
    "    # Adding noise\n",
    "    noise = np.random.normal(0, noise_level, sample.shape)\n",
    "    sample = sample + noise\n",
    "\n",
    "    # Reshape and convert to PyTorch tensor\n",
    "    sample_tensor = torch.from_numpy(sample).float().transpose(0, 1).unsqueeze(0)\n",
    "    return sample_tensor"
   ]
  },
  {
   "cell_type": "code",
   "execution_count": 64,
   "metadata": {},
   "outputs": [
    {
     "name": "stdout",
     "output_type": "stream",
     "text": [
      "Testing hersh_1 | Predicted class: 0, Expected class 0\n",
      "Testing hersh_2 | Predicted class: 0, Expected class 0\n",
      "Testing hersh_3 | Predicted class: 0, Expected class 0\n",
      "Testing hersh_4 | Predicted class: 0, Expected class 0\n",
      "Testing hersh_5 | Predicted class: 0, Expected class 0\n",
      "Testing hersh_6 | Predicted class: 0, Expected class 0\n",
      "Testing hersh_7 | Predicted class: 0, Expected class 0\n",
      "Testing hersh_8 | Predicted class: 0, Expected class 0\n",
      "Testing hersh_9 | Predicted class: 0, Expected class 0\n",
      "Testing hersh_10 | Predicted class: 0, Expected class 0\n",
      "Testing nate_1 | Predicted class: 1, Expected class 1\n",
      "Testing nate_2 | Predicted class: 1, Expected class 1\n",
      "Testing nate_3 | Predicted class: 1, Expected class 1\n",
      "Testing nate_4 | Predicted class: 1, Expected class 1\n",
      "Testing nate_5 | Predicted class: 1, Expected class 1\n",
      "Testing nate_6 | Predicted class: 1, Expected class 1\n",
      "Testing nate_7 | Predicted class: 1, Expected class 1\n",
      "Testing nate_8 | Predicted class: 1, Expected class 1\n",
      "Testing nate_9 | Predicted class: 1, Expected class 1\n",
      "Testing nate_10 | Predicted class: 1, Expected class 1\n",
      "Testing ryan_1 | Predicted class: 2, Expected class 2\n",
      "Testing ryan_2 | Predicted class: 2, Expected class 2\n",
      "Testing ryan_3 | Predicted class: 2, Expected class 2\n",
      "Testing ryan_4 | Predicted class: 2, Expected class 2\n",
      "Testing ryan_5 | Predicted class: 2, Expected class 2\n",
      "Testing ryan_6 | Predicted class: 2, Expected class 2\n",
      "Testing ryan_7 | Predicted class: 2, Expected class 2\n",
      "Testing ryan_8 | Predicted class: 2, Expected class 2\n",
      "Testing ryan_9 | Predicted class: 2, Expected class 2\n",
      "Testing ryan_10 | Predicted class: 2, Expected class 2\n"
     ]
    }
   ],
   "source": [
    "# Define preprocessing parameters\n",
    "crop_size = 500  # Example crop size, adjust to your needs\n",
    "noise_level = 0.01  # Example noise level\n",
    "\n",
    "\n",
    "def predict(model, sample):\n",
    "    with torch.no_grad():  # Ensure gradients are not computed in inference mode\n",
    "        preprocessed_sample = preprocess_data(sample, crop_size, noise_level)\n",
    "        outputs = model(preprocessed_sample)\n",
    "        _, predicted = torch.max(outputs, 1)\n",
    "        return predicted.item()  # or return outputs for probabilistic interpretation\n",
    "\n",
    "\n",
    "for name, label in label_dict.items():\n",
    "    for i in range(1, 11):\n",
    "        sample = np.loadtxt(\n",
    "            f\"data/{name}_{i}.txt\", delimiter=\",\"\n",
    "        ) \n",
    "        prediction = predict(model, sample)\n",
    "        print(f\"Testing {name}_{i} | Predicted class: {prediction}, Expected class {label}\")"
   ]
  }
 ],
 "metadata": {
  "kernelspec": {
   "display_name": "Python 3",
   "language": "python",
   "name": "python3"
  },
  "language_info": {
   "codemirror_mode": {
    "name": "ipython",
    "version": 3
   },
   "file_extension": ".py",
   "mimetype": "text/x-python",
   "name": "python",
   "nbconvert_exporter": "python",
   "pygments_lexer": "ipython3",
   "version": "3.11.3"
  }
 },
 "nbformat": 4,
 "nbformat_minor": 2
}
