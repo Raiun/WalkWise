{
 "cells": [
  {
   "cell_type": "code",
   "execution_count": 38,
   "metadata": {},
   "outputs": [],
   "source": [
    "import torch\n",
    "import torch.nn as nn\n",
    "import torch.nn.functional as F\n",
    "import numpy as np\n",
    "\n",
    "\n",
    "class Gait1DCNN(nn.Module):\n",
    "    def __init__(self, num_classes=3):\n",
    "        super(Gait1DCNN, self).__init__()\n",
    "        # Input shape: [batch_size, 6, 500]\n",
    "        self.conv1 = nn.Conv1d(\n",
    "            in_channels=6, out_channels=64, kernel_size=3, stride=1, padding=1\n",
    "        )\n",
    "        self.pool = nn.MaxPool1d(kernel_size=2, stride=2, padding=0)\n",
    "        self.conv2 = nn.Conv1d(64, 128, kernel_size=3, stride=1, padding=1)\n",
    "\n",
    "        # Calculate the size of the features after the convolution and pooling layers\n",
    "        # Assuming input length is 500 and you apply pooling twice\n",
    "        conv_output_size = 500 // 2 // 2\n",
    "        self.fc1 = nn.Linear(128 * conv_output_size, 128)\n",
    "        self.fc2 = nn.Linear(128, num_classes)\n",
    "\n",
    "    def forward(self, x):\n",
    "        x = self.pool(F.relu(self.conv1(x)))\n",
    "        x = self.pool(F.relu(self.conv2(x)))\n",
    "        # Flatten the output for the dense layer\n",
    "        x = x.view(x.size(0), -1)\n",
    "        x = F.relu(self.fc1(x))\n",
    "        x = self.fc2(x)\n",
    "        return x"
   ]
  },
  {
   "cell_type": "code",
   "execution_count": 39,
   "metadata": {},
   "outputs": [
    {
     "data": {
      "text/plain": [
       "Gait1DCNN(\n",
       "  (conv1): Conv1d(6, 64, kernel_size=(3,), stride=(1,), padding=(1,))\n",
       "  (pool): MaxPool1d(kernel_size=2, stride=2, padding=0, dilation=1, ceil_mode=False)\n",
       "  (conv2): Conv1d(64, 128, kernel_size=(3,), stride=(1,), padding=(1,))\n",
       "  (fc1): Linear(in_features=12800, out_features=128, bias=True)\n",
       "  (fc2): Linear(in_features=128, out_features=2, bias=True)\n",
       ")"
      ]
     },
     "execution_count": 39,
     "metadata": {},
     "output_type": "execute_result"
    }
   ],
   "source": [
    "model = torch.load(\"1D_CNN_model_nate_2.pth\")\n",
    "label_dict = {\"hersh\": 0, \"nate\": 1, \"ryan\": 2}\n",
    "model.eval()  # Set the model to evaluation mode"
   ]
  },
  {
   "cell_type": "code",
   "execution_count": 40,
   "metadata": {},
   "outputs": [],
   "source": [
    "def preprocess_data(sample, crop_size, noise_level):\n",
    "    # Normalize the sample\n",
    "    sample_mean = sample.mean(axis=0)\n",
    "    sample_std = sample.std(axis=0)\n",
    "    sample = (sample - sample_mean) / sample_std\n",
    "\n",
    "    # Random cropping\n",
    "    if sample.shape[0] > crop_size:\n",
    "        start = np.random.randint(0, sample.shape[0] - crop_size)\n",
    "        sample = sample[start : start + crop_size, :]\n",
    "    else:\n",
    "        # If the sample is shorter than crop_size, you might want to pad it or handle it differently\n",
    "        pass\n",
    "\n",
    "    # Adding noise\n",
    "    noise = np.random.normal(0, noise_level, sample.shape)\n",
    "    sample = sample + noise\n",
    "\n",
    "    # Reshape and convert to PyTorch tensor\n",
    "    sample_tensor = torch.from_numpy(sample).float().transpose(0, 1).unsqueeze(0)\n",
    "    return sample_tensor"
   ]
  },
  {
   "cell_type": "code",
   "execution_count": 41,
   "metadata": {},
   "outputs": [
    {
     "name": "stdout",
     "output_type": "stream",
     "text": [
      "Testing hersh_1 | Predicted class: (0, tensor([[ 9.6580, -4.0114]])), Expected class 0\n",
      "Testing hersh_2 | Predicted class: (0, tensor([[12.0874, -6.9814]])), Expected class 0\n",
      "Testing hersh_3 | Predicted class: (0, tensor([[10.7540, -4.5375]])), Expected class 0\n",
      "Testing hersh_4 | Predicted class: (0, tensor([[ 9.7383, -3.9252]])), Expected class 0\n",
      "Testing hersh_5 | Predicted class: (0, tensor([[ 9.6458, -4.0185]])), Expected class 0\n",
      "Testing hersh_6 | Predicted class: (0, tensor([[10.1473, -4.3212]])), Expected class 0\n",
      "Testing hersh_7 | Predicted class: (0, tensor([[ 8.8072, -3.1248]])), Expected class 0\n",
      "Testing hersh_8 | Predicted class: (0, tensor([[11.5090, -4.8169]])), Expected class 0\n",
      "Testing hersh_9 | Predicted class: (0, tensor([[13.5040, -7.1398]])), Expected class 0\n",
      "Testing hersh_10 | Predicted class: (0, tensor([[10.9668, -4.6129]])), Expected class 0\n",
      "Testing hersh_11 | Predicted class: (0, tensor([[14.5363, -8.5219]])), Expected class 0\n",
      "Testing hersh_12 | Predicted class: (0, tensor([[14.9220, -8.7256]])), Expected class 0\n",
      "Testing hersh_13 | Predicted class: (0, tensor([[11.8846, -6.2103]])), Expected class 0\n",
      "Testing hersh_14 | Predicted class: (0, tensor([[12.8580, -6.9773]])), Expected class 0\n",
      "Testing hersh_15 | Predicted class: (0, tensor([[17.3680, -9.7901]])), Expected class 0\n",
      "Testing hersh_16 | Predicted class: (0, tensor([[13.7030, -7.3832]])), Expected class 0\n",
      "Testing hersh_17 | Predicted class: (0, tensor([[16.5948, -9.1347]])), Expected class 0\n",
      "Testing hersh_18 | Predicted class: (0, tensor([[13.6226, -6.5612]])), Expected class 0\n",
      "Testing hersh_19 | Predicted class: (0, tensor([[10.7528, -4.4455]])), Expected class 0\n",
      "Testing hersh_20 | Predicted class: (0, tensor([[10.7636, -4.2258]])), Expected class 0\n",
      "Testing nate_1 | Predicted class: (1, tensor([[-2.6740,  6.2969]])), Expected class 1\n",
      "Testing nate_2 | Predicted class: (1, tensor([[-4.0831,  7.5008]])), Expected class 1\n",
      "Testing nate_3 | Predicted class: (1, tensor([[-2.1207,  5.4635]])), Expected class 1\n",
      "Testing nate_4 | Predicted class: (1, tensor([[0.1107, 3.6881]])), Expected class 1\n",
      "Testing nate_5 | Predicted class: (1, tensor([[-5.0134,  8.1788]])), Expected class 1\n",
      "Testing nate_6 | Predicted class: (1, tensor([[-4.8315,  7.8042]])), Expected class 1\n",
      "Testing nate_7 | Predicted class: (1, tensor([[-4.7709,  8.0872]])), Expected class 1\n",
      "Testing nate_8 | Predicted class: (1, tensor([[-4.4579,  7.6391]])), Expected class 1\n",
      "Testing nate_9 | Predicted class: (1, tensor([[-4.7457,  7.8988]])), Expected class 1\n",
      "Testing nate_10 | Predicted class: (1, tensor([[-4.7321,  7.7967]])), Expected class 1\n",
      "Testing nate_11 | Predicted class: (1, tensor([[-4.8758,  7.9356]])), Expected class 1\n",
      "Testing nate_12 | Predicted class: (1, tensor([[-3.2351,  6.2374]])), Expected class 1\n",
      "Testing nate_13 | Predicted class: (1, tensor([[-3.6789,  7.0606]])), Expected class 1\n",
      "Testing nate_14 | Predicted class: (1, tensor([[-4.0450,  6.6777]])), Expected class 1\n",
      "Testing nate_15 | Predicted class: (1, tensor([[-3.2639,  6.7328]])), Expected class 1\n",
      "Testing nate_16 | Predicted class: (1, tensor([[-2.1573,  5.7913]])), Expected class 1\n",
      "Testing nate_17 | Predicted class: (1, tensor([[-4.7929,  7.9312]])), Expected class 1\n",
      "Testing nate_18 | Predicted class: (1, tensor([[-5.3198,  8.3104]])), Expected class 1\n",
      "Testing nate_19 | Predicted class: (1, tensor([[-4.7445,  7.9295]])), Expected class 1\n",
      "Testing nate_20 | Predicted class: (1, tensor([[-4.8854,  8.1004]])), Expected class 1\n",
      "Testing ryan_1 | Predicted class: (0, tensor([[12.8757, -6.8708]])), Expected class 2\n",
      "Testing ryan_2 | Predicted class: (0, tensor([[14.3877, -7.8497]])), Expected class 2\n",
      "Testing ryan_3 | Predicted class: (0, tensor([[12.9862, -6.7149]])), Expected class 2\n",
      "Testing ryan_4 | Predicted class: (0, tensor([[13.1537, -6.4786]])), Expected class 2\n",
      "Testing ryan_5 | Predicted class: (0, tensor([[11.1117, -5.3531]])), Expected class 2\n",
      "Testing ryan_6 | Predicted class: (0, tensor([[12.1809, -6.0723]])), Expected class 2\n",
      "Testing ryan_7 | Predicted class: (0, tensor([[ 7.2165, -2.2485]])), Expected class 2\n",
      "Testing ryan_8 | Predicted class: (0, tensor([[11.5971, -5.7642]])), Expected class 2\n",
      "Testing ryan_9 | Predicted class: (0, tensor([[12.2989, -6.4583]])), Expected class 2\n",
      "Testing ryan_10 | Predicted class: (0, tensor([[ 8.8556, -3.3668]])), Expected class 2\n",
      "Testing ryan_11 | Predicted class: (0, tensor([[ 9.5488, -4.8269]])), Expected class 2\n",
      "Testing ryan_12 | Predicted class: (0, tensor([[ 8.5950, -2.6637]])), Expected class 2\n",
      "Testing ryan_13 | Predicted class: (0, tensor([[ 18.5864, -11.7478]])), Expected class 2\n",
      "Testing ryan_14 | Predicted class: (0, tensor([[ 20.4760, -13.3140]])), Expected class 2\n",
      "Testing ryan_15 | Predicted class: (0, tensor([[ 19.7713, -12.3989]])), Expected class 2\n",
      "Testing ryan_16 | Predicted class: (0, tensor([[ 17.1750, -10.1700]])), Expected class 2\n",
      "Testing ryan_17 | Predicted class: (0, tensor([[ 15.9537, -10.0527]])), Expected class 2\n",
      "Testing ryan_18 | Predicted class: (0, tensor([[ 19.2582, -12.8946]])), Expected class 2\n",
      "Testing ryan_19 | Predicted class: (0, tensor([[ 17.0586, -10.3832]])), Expected class 2\n",
      "Testing ryan_20 | Predicted class: (0, tensor([[13.9356, -9.5076]])), Expected class 2\n"
     ]
    }
   ],
   "source": [
    "# Define preprocessing parameters\n",
    "crop_size = 400  # Example crop size, adjust to your needs\n",
    "noise_level = 0.05  # Example noise level\n",
    "\n",
    "\n",
    "def predict(model, sample):\n",
    "    with torch.no_grad():  # Ensure gradients are not computed in inference mode\n",
    "        preprocessed_sample = preprocess_data(sample, crop_size, noise_level)\n",
    "        outputs = model(preprocessed_sample)\n",
    "        _, predicted = torch.max(outputs, 1)\n",
    "        return predicted.item(), outputs  # or return outputs for probabilistic interpretation\n",
    "\n",
    "\n",
    "for name, label in label_dict.items():\n",
    "    for i in range(1, 21):\n",
    "        sample = np.loadtxt(\n",
    "            f\"data/{name}_{i}.txt\", delimiter=\",\"\n",
    "        ) \n",
    "        prediction = predict(model, sample)\n",
    "        print(f\"Testing {name}_{i} | Predicted class: {prediction}\")\n",
    "\n",
    "for i in range(1, 18):\n",
    "        sample = np.loadtxt(\n",
    "            f\"data/unrec_{i}.txt\", delimiter=\",\"\n",
    "        ) \n",
    "        prediction = predict(model, sample)\n",
    "        print(f\"Testing unrec_{i} | Predicted class: {prediction}\")"
   ]
  },
  {
   "cell_type": "code",
   "execution_count": 42,
   "metadata": {},
   "outputs": [
    {
     "name": "stdout",
     "output_type": "stream",
     "text": [
      "Testing nate_1 | Predicted class: (0, tensor([[ 7.6778, -2.4982]])), Expected class 1\n",
      "Testing nate_2 | Predicted class: (0, tensor([[ 6.8828, -1.9182]])), Expected class 1\n",
      "Testing nate_3 | Predicted class: (0, tensor([[ 9.9123, -4.4016]])), Expected class 1\n",
      "Testing nate_4 | Predicted class: (0, tensor([[11.2481, -5.3169]])), Expected class 1\n",
      "Testing nate_5 | Predicted class: (0, tensor([[11.8164, -5.7767]])), Expected class 1\n",
      "Testing nate_6 | Predicted class: (0, tensor([[14.0191, -7.8180]])), Expected class 1\n",
      "Testing nate_7 | Predicted class: (0, tensor([[ 8.7397, -3.8658]])), Expected class 1\n",
      "Testing nate_8 | Predicted class: (0, tensor([[12.3203, -6.5569]])), Expected class 1\n",
      "Testing nate_9 | Predicted class: (0, tensor([[11.6861, -5.7179]])), Expected class 1\n",
      "Testing nate_10 | Predicted class: (0, tensor([[ 9.6361, -4.1645]])), Expected class 1\n"
     ]
    }
   ],
   "source": [
    "for i in range(1, 11):\n",
    "    sample = np.loadtxt(f\"nate_data/nate_data_{i}.txt\", delimiter=\",\")\n",
    "    prediction = predict(model, sample)\n",
    "    print(f\"Testing nate_{i} | Predicted class: {prediction}, Expected class 1\")"
   ]
  }
 ],
 "metadata": {
  "kernelspec": {
   "display_name": "Python 3",
   "language": "python",
   "name": "python3"
  },
  "language_info": {
   "codemirror_mode": {
    "name": "ipython",
    "version": 3
   },
   "file_extension": ".py",
   "mimetype": "text/x-python",
   "name": "python",
   "nbconvert_exporter": "python",
   "pygments_lexer": "ipython3",
   "version": "3.9.6"
  }
 },
 "nbformat": 4,
 "nbformat_minor": 2
}
